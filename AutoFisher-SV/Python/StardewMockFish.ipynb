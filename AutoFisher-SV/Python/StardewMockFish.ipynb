{
 "cells": [
  {
   "cell_type": "code",
   "execution_count": 11,
   "id": "59a24a8c-0201-4acf-86b3-16b7037e5863",
   "metadata": {},
   "outputs": [],
   "source": [
    "import pandas as pd\n",
    "import math\n",
    "\n",
    "BAR_SIZE = 10\n",
    "BOBBER_SIZE = 3\n",
    "FISH_POSITION_MAX = 526.001\n",
    "FISH_POSITION_MIN = 0 # useless\n",
    "BOBBER_POS_MAX = 432\n",
    "BOBBER_POS_MIN = 0 # useless\n",
    "\n",
    "\n",
    "\n",
    "def convert_coords_to_terminal(fish_pos_RAW,bobber_pos_lower_RAW):\n",
    "    fish_pos = BAR_SIZE/FISH_POSITION_MAX * fish_pos_RAW\n",
    "    bobber_pos_lower = BAR_SIZE/BOBBER_POS_MAX * bobber_pos_lower_RAW\n",
    "    return (math.floor(fish_pos),math.floor(bobber_pos_lower))\n",
    "\n",
    "\n",
    "def get_bar(fish_pos,bobber_pos_lower):\n",
    "    bobber_pos_lower-=1\n",
    "    bobber_pos_upper = bobber_pos_lower + BOBBER_SIZE\n",
    "    bar = \"\"\n",
    "    for i in range(0,BAR_SIZE):\n",
    "        if(i==fish_pos):\n",
    "            bar+='|F|'\n",
    "        else:\n",
    "            bar+='| |'\n",
    "        if(i==bobber_pos_lower):\n",
    "            bar+='|~|'\n",
    "        elif(i==bobber_pos_upper):\n",
    "            bar+='|~|'\n",
    "        \n",
    "        bar+='\\n'\n",
    "    return bar.strip('\\n') \n"
   ]
  },
  {
   "cell_type": "code",
   "execution_count": null,
   "id": "948c81ca-49aa-440c-b110-2762a3580ea7",
   "metadata": {},
   "outputs": [],
   "source": []
  },
  {
   "cell_type": "code",
   "execution_count": 12,
   "id": "1c81d7e6-021f-41ea-af35-3f69be698c00",
   "metadata": {},
   "outputs": [],
   "source": [
    "data = pd.read_csv('replayMemory.csv')"
   ]
  },
  {
   "cell_type": "code",
   "execution_count": 13,
   "id": "882d77c6-ba2d-4dec-9e94-49e391e51c39",
   "metadata": {},
   "outputs": [
    {
     "name": "stdout",
     "output_type": "stream",
     "text": [
      "| |\n",
      "| |\n",
      "| |\n",
      "| |\n",
      "| |\n",
      "| |\n",
      "| |\n",
      "| ||~|\n",
      "|F|\n",
      "| |\n",
      "0.7309908270835876\n"
     ]
    },
    {
     "ename": "KeyboardInterrupt",
     "evalue": "",
     "output_type": "error",
     "traceback": [
      "\u001b[0;31m---------------------------------------------------------------------------\u001b[0m",
      "\u001b[0;31mKeyboardInterrupt\u001b[0m                         Traceback (most recent call last)",
      "\u001b[0;32m/tmp/ipykernel_1455/3417749750.py\u001b[0m in \u001b[0;36m<module>\u001b[0;34m\u001b[0m\n\u001b[1;32m     12\u001b[0m     \u001b[0mprint\u001b[0m\u001b[0;34m(\u001b[0m\u001b[0mbar\u001b[0m\u001b[0;34m)\u001b[0m\u001b[0;34m\u001b[0m\u001b[0;34m\u001b[0m\u001b[0m\n\u001b[1;32m     13\u001b[0m     \u001b[0mprint\u001b[0m\u001b[0;34m(\u001b[0m\u001b[0mcol\u001b[0m\u001b[0;34m[\u001b[0m\u001b[0;34m-\u001b[0m\u001b[0;36m2\u001b[0m\u001b[0;34m]\u001b[0m\u001b[0;34m)\u001b[0m\u001b[0;34m\u001b[0m\u001b[0;34m\u001b[0m\u001b[0m\n\u001b[0;32m---> 14\u001b[0;31m     \u001b[0mtime\u001b[0m\u001b[0;34m.\u001b[0m\u001b[0msleep\u001b[0m\u001b[0;34m(\u001b[0m\u001b[0;36m0.05\u001b[0m\u001b[0;34m)\u001b[0m\u001b[0;34m\u001b[0m\u001b[0;34m\u001b[0m\u001b[0m\n\u001b[0m\u001b[1;32m     15\u001b[0m     \u001b[0mclear_output\u001b[0m\u001b[0;34m(\u001b[0m\u001b[0mwait\u001b[0m\u001b[0;34m=\u001b[0m\u001b[0;32mTrue\u001b[0m\u001b[0;34m)\u001b[0m\u001b[0;34m\u001b[0m\u001b[0;34m\u001b[0m\u001b[0m\n",
      "\u001b[0;31mKeyboardInterrupt\u001b[0m: "
     ]
    }
   ],
   "source": [
    "import time\n",
    "from IPython.display import clear_output\n",
    "UP = f\"\\x1B[{BAR_SIZE+100}A\"\n",
    "\n",
    "\n",
    "for idx,col in data.iterrows():\n",
    "    fish_pos_RAW = col[1]\n",
    "    bobber_pos_lower_RAW = col[0]\n",
    "    fish_pos, bobber_pos_lower = convert_coords_to_terminal(fish_pos_RAW, bobber_pos_lower_RAW)\n",
    "    #print(fish_pos, bobber_pos_lower)\n",
    "    bar = get_bar(fish_pos, bobber_pos_lower)\n",
    "    print(bar)\n",
    "    print(col[-2])\n",
    "    time.sleep(0.05)\n",
    "    clear_output(wait=True)"
   ]
  },
  {
   "cell_type": "code",
   "execution_count": null,
   "id": "eebebba1-e42d-47ab-a4ee-1248548c9fc1",
   "metadata": {},
   "outputs": [],
   "source": []
  },
  {
   "cell_type": "code",
   "execution_count": null,
   "id": "86ffa53c-d3f6-4963-899a-a1ac1a5dff6e",
   "metadata": {},
   "outputs": [],
   "source": []
  },
  {
   "cell_type": "code",
   "execution_count": null,
   "id": "3363ba82-7dbc-49cb-9259-a2f1309b5198",
   "metadata": {},
   "outputs": [],
   "source": []
  },
  {
   "cell_type": "code",
   "execution_count": null,
   "id": "d91d5f39-92dd-4f2b-8b6d-9b79f5e8fce4",
   "metadata": {},
   "outputs": [],
   "source": []
  },
  {
   "cell_type": "code",
   "execution_count": 157,
   "id": "b21ca073-07f2-44fc-bdf8-427cfa1bfe58",
   "metadata": {},
   "outputs": [
    {
     "name": "stdout",
     "output_type": "stream",
     "text": [
      "\n",
      "\n",
      "\n",
      "\n",
      "\n",
      "\n",
      "\n",
      "\u001b[10A\n"
     ]
    }
   ],
   "source": [
    "print('\\n\\n\\n\\n\\n\\n\\n' + UP)"
   ]
  },
  {
   "cell_type": "code",
   "execution_count": null,
   "id": "2d5ea171-2a22-44e5-969e-fd532a71daae",
   "metadata": {},
   "outputs": [],
   "source": []
  }
 ],
 "metadata": {
  "kernelspec": {
   "display_name": "Python 3 (ipykernel)",
   "language": "python",
   "name": "python3"
  },
  "language_info": {
   "codemirror_mode": {
    "name": "ipython",
    "version": 3
   },
   "file_extension": ".py",
   "mimetype": "text/x-python",
   "name": "python",
   "nbconvert_exporter": "python",
   "pygments_lexer": "ipython3",
   "version": "3.8.10"
  }
 },
 "nbformat": 4,
 "nbformat_minor": 5
}
